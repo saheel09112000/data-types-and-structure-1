{
  "nbformat": 4,
  "nbformat_minor": 0,
  "metadata": {
    "colab": {
      "provenance": []
    },
    "kernelspec": {
      "name": "python3",
      "display_name": "Python 3"
    },
    "language_info": {
      "name": "python"
    }
  },
  "cells": [
    {
      "cell_type": "code",
      "execution_count": null,
      "metadata": {
        "id": "HFIshb3GNrJA"
      },
      "outputs": [],
      "source": []
    },
    {
      "cell_type": "markdown",
      "source": [
        "1.What are data structures, and why are they important?\n",
        "-Data Types in Programming - GeeksforGeeksData types are classifications that define the kind of value a variable can hold and the operations that can be performed on it. They are crucial for ensuring data integrity, efficient memory usage, and accurate operation in programming. Different data types include integers, floating-point numbers, strings, booleans, and arrays.\n",
        "They are important because they specify the type of information a variable represents, such as numbers, text, or true/false values.\n",
        "\n",
        "2. Explain the difference between mutable and immutable data types with examples\n",
        "-Mutable data types are those whose values or contents can be modified after they are initialized. Changes to a mutable object occur in-place, meaning the object itself is altered without creating a new one in memory.\n",
        "example:-"
      ],
      "metadata": {
        "id": "HyTbp9ydODu2"
      }
    },
    {
      "cell_type": "code",
      "source": [
        "my_list=[1, 2, 3 ]\n",
        "my_list.append(4)\n",
        "print(my_list)\n"
      ],
      "metadata": {
        "colab": {
          "base_uri": "https://localhost:8080/"
        },
        "id": "JmtRjaojPx3J",
        "outputId": "e20ce85d-af28-420a-ddbe-99ed20a2a8a1"
      },
      "execution_count": 1,
      "outputs": [
        {
          "output_type": "stream",
          "name": "stdout",
          "text": [
            "[1, 2, 3, 4]\n"
          ]
        }
      ]
    },
    {
      "cell_type": "markdown",
      "source": [
        "Immutable data types are those whose values or contents cannot be changed after they are created. Any operation that appears to modify an immutable object actually results in the creation of a new object with the desired changes, leaving the original object untouched. example:-\n"
      ],
      "metadata": {
        "id": "yXDmUdQbQygT"
      }
    },
    {
      "cell_type": "code",
      "source": [
        "x=6\n",
        "x=x+2\n",
        "print(x)\n"
      ],
      "metadata": {
        "colab": {
          "base_uri": "https://localhost:8080/"
        },
        "id": "DDrtYizfQ3et",
        "outputId": "55d14a24-e6dc-4c4a-dd0e-a59999f457cd"
      },
      "execution_count": 2,
      "outputs": [
        {
          "output_type": "stream",
          "name": "stdout",
          "text": [
            "8\n"
          ]
        }
      ]
    },
    {
      "cell_type": "markdown",
      "source": [
        "3. What are the main differences between lists and tuples in Python3\n",
        "-Lists are mutable: This means that after a list is created, its elements can be modified, added, or removed.\n",
        "-Tuples are immutable: Once a tuple is created, its elements cannot be changed, added, or removed. Attempting to modify a tuple will result in an error."
      ],
      "metadata": {
        "id": "Bkys8qe9RPUN"
      }
    },
    {
      "cell_type": "markdown",
      "source": [
        "4.  Describe how dictionaries store dataP\n",
        "- Python dictionaries store data as key-value pairs using a hash table implementation. This allows for efficient data storage and retrieval."
      ],
      "metadata": {
        "id": "eGJF7JJyRzxA"
      }
    },
    {
      "cell_type": "markdown",
      "source": [
        "5. Why might you use a set instead of a list in Python3\n",
        "- We use set when no specific order is required in testing.\n",
        "we use list when element order is important or elements need to be accessed by index.\n"
      ],
      "metadata": {
        "id": "wrbeqXvYSVTB"
      }
    },
    {
      "cell_type": "markdown",
      "source": [
        "6. What is a string in Python, and how is it different from a list3\n",
        "- In Python, a string is a sequence of characters, used to represent textual data. It is an immutable data type, meaning its content cannot be changed after it is created. Strings are enclosed in either single quotes (') or double quotes (\"). while a  list, on the other hand, is an ordered collection of items, which can be of any data type. Lists are mutable, allowing their elements to be modified, added, or removed after creation. Lists are enclosed in square brackets ([]).\n",
        "\n"
      ],
      "metadata": {
        "id": "NUVutAyqTHFe"
      }
    },
    {
      "cell_type": "markdown",
      "source": [
        "7.  How do tuples ensure data integrity in Python3\n",
        "-People ensure data integrity in Python through various strategies and practices, focusing on preventing data corruption, ensuring accuracy, and maintaining consistency. Key methods include:\n",
        "Data validation\n",
        "Data cleaning and preprocessing\n",
        "Database Constraints and transactions\n",
        "Cryptographic hasing\n"
      ],
      "metadata": {
        "id": "l7gDbMPMTsGb"
      }
    },
    {
      "cell_type": "markdown",
      "source": [
        "8.  What is a hash table, and how does it relate to dictionaries in Python3\n",
        "-A hash table is a data structure that implements an associative array or dictionary, which maps keys to values. It uses a hash function to compute an index into an array of buckets or slots, from which the desired value can be found. The goal is to provide fast average-case time complexity for operations like insertion, deletion, and retrieval.\n",
        "Python's built-in dict data type is an implementation of a hash table. When you create a dictionary in Python, you are essentially creating a hash table.\n"
      ],
      "metadata": {
        "id": "04lsj7S5UT0u"
      }
    },
    {
      "cell_type": "markdown",
      "source": [
        "9. P Can lists contain different data types in Python3\n",
        "-Yes, Python lists can contain elements of different data types."
      ],
      "metadata": {
        "id": "tPOwkAzMU3zI"
      }
    },
    {
      "cell_type": "markdown",
      "source": [
        "10.  Explain why strings are immutable in PythonP\n",
        "-One big reason is performance - strings are used very often, so Python is able to do many optimizatioms that won't be possible if strings were mutable. Eg. String Interning - Python internally caches many small strings to reduce memory usage.\n",
        "\n",
        "Another reason is ease of use. If strings were mutable, then they won't be hashable so we won't be able to use strings as dict keys.\n"
      ],
      "metadata": {
        "id": "lLvC8mKSVKbU"
      }
    },
    {
      "cell_type": "markdown",
      "source": [
        "11.  What advantages do dictionaries offer over lists for certain tasks3\n",
        "-It’s quicker and easier to find a specific element in a dictionary.\n",
        "Python has a list, which is a mutable data structure with an ordered list of elements. A list's elements are any items or values that are contained within it. The definition of a list is a set of values enclosed in square brackets ([]) and separated by commas.\n",
        "The data collected is stored as key-value pairs in the dictionary, a standard Python data structure. The word \"dictionary\" is enclosed in curly brackets (), spaced by commas.\n",
        "Due to the above difference between lists and dictionaries getting the elements from the list data structure is more complex when compared to dictionaries.\n",
        "So it is more efficient to use dictionaries for the searching of elements as it can be carried out in a much faster manner.\n",
        "Lists are used when it is important to maintain the order of the elements and dealing with data that may get changed in the future.\n"
      ],
      "metadata": {
        "id": "_BFFV_BhVzQW"
      }
    },
    {
      "cell_type": "markdown",
      "source": [],
      "metadata": {
        "id": "idAwnUBIWkqh"
      }
    },
    {
      "cell_type": "markdown",
      "source": [],
      "metadata": {
        "id": "Wwpg2cmpWmZD"
      }
    },
    {
      "cell_type": "markdown",
      "source": [
        "12. Describe a scenario where using a tuple would be preferable over a list\n",
        "- Suppose we are storing geographic coordinates of a city:\n",
        "city_coordinates = (28.6139, 77.2090)\n",
        "here, a tuple is preferable because:\n",
        "Coordinates are fixed values – you don’t want them to change accidentally.\n",
        "Tuples can be used as dictionary keys, while lists cannot. Example:\n",
        "locations = {\n",
        "    (28.6139, 77.2090): \"New Delhi\",\n",
        "    (40.7128, -74.0060): \"New York\"\n",
        "}\n",
        "if we had used a list instead of a tuple, you couldn’t store coordinates as dictionary keys.\n"
      ],
      "metadata": {
        "id": "LcNI9oRkWqIS"
      }
    },
    {
      "cell_type": "markdown",
      "source": [
        "13. How do sets handle duplicate values in Python3\n",
        "-\n",
        "Python's built-in set data structure is fundamentally designed to store only unique elements. It handles duplicate values by automatically discarding them.\n",
        "When we attempt to add an element that already exists within a set, the set simply ignores the new addition, and the existing element remains. This behavior is a core characteristic of sets and distinguishes them from other collection types like lists or tuples, which allow duplicate entries.\n",
        "\n"
      ],
      "metadata": {
        "id": "MOOLaROVYdMx"
      }
    },
    {
      "cell_type": "markdown",
      "source": [
        "14. P How does the “in” keyword work differently for lists and dictionaries3\n",
        "- For Lists:\n",
        "When in is used with a list, it performs a linear search. This means Python iterates through each element of the list, from beginning to end, comparing each element to the item being searched for.\n",
        "The in operator returns True if a match is found and False otherwise.\n",
        "The time complexity for searching in a list using in is O(n) in the worst case, where 'n' is the number of elements in the list, as it may need to check every element.\n",
        "For Dictionaries:\n",
        "When in is used with a dictionary, it checks for the presence of a key, not a value.\n",
        "Dictionaries are implemented using hash tables, which allow for very efficient lookups. When you check key in dictionary, Python calculates the hash of the key and directly accesses the corresponding location in memory.\n",
        "The in operator returns True if the key exists in the dictionary and False otherwise.\n",
        "The time complexity for checking key existence in a dictionary using in is typically O(1) on average, making it significantly faster than searching in a list for large collections.\n"
      ],
      "metadata": {
        "id": "qK9Py2tTZJiT"
      }
    },
    {
      "cell_type": "markdown",
      "source": [
        "15. Can you modify the elements of a tuple? Explain why or why not\n",
        "No, the elements of a tuple cannot be modified directly after the tuple has been created. Tuples are immutable data structures in Python. This means that once a tuple is defined, its size and the values of its elements cannot be changed.\n"
      ],
      "metadata": {
        "id": "7BsIc5PzZiuB"
      }
    },
    {
      "cell_type": "markdown",
      "source": [
        "16. What is a nested dictionary, and give an example of its use case3\n",
        "A nested dictionary is a data structure where a dictionary contains one or more other dictionaries as its values, allowing for hierarchical data organization. This structure is ideal for representing complex relationships, such as a directory of students with their individual information or a project management system with teams and their respective tasks.\n",
        "example:-\n",
        "company_data = {\n",
        "    \"Sales\": {\n",
        "        \"manager\": \"Alice\",\n",
        "        \"employees\": [\"Bob\", \"Charlie\"],\n",
        "        \"budget\": 50000\n",
        "    },\n",
        "    \"Marketing\": {\n",
        "        \"manager\": \"David\",\n",
        "        \"employees\": [\"Eve\", \"Frank\"],\n",
        "        \"budget\": 60000\n",
        "    }\n",
        "}\n"
      ],
      "metadata": {
        "id": "HNESKN9tZ1lX"
      }
    },
    {
      "cell_type": "markdown",
      "source": [
        "17. Describe the time complexity of accessing elements in a dictionary\n",
        "Accessing elements in a dictionary, such as retrieving a value by its key or checking for key existence, generally exhibits a time complexity of O(1) on average. This is referred to as constant time complexity.\n",
        "This efficiency is attributed to the internal implementation of dictionaries, which typically use hash tables. When a key is provided for access, a hash function converts the key into a hash value, which then directly points to the memory location where the corresponding value is stored. This direct access mechanism allows for very fast lookups, regardless of the dictionary's size, on average.\n",
        "However, in the worst-case scenario, the time complexity can degrade to O(n), where 'n' is the number of elements in the dictionary. This worst case primarily occurs due to hash collisions, where multiple keys produce the same hash value. While modern hash table implementations are designed to minimize collisions, a significant number of collisions can necessitate traversing a linked list or similar structure within a hash \"bucket,\" leading to a linear search time. This situation is rare in practice with well-designed hash functions and load factors.\n",
        "\n"
      ],
      "metadata": {
        "id": "V6akFR_ZaUsI"
      }
    },
    {
      "cell_type": "markdown",
      "source": [
        "18.  In what situations are lists preferred over dictionaries3\n",
        "-Lists are preferred over dictionaries when the order of items is important and efficient modifications like appending and extending are frequently needed. Dictionaries, on the other hand, are favored when you need to quickly look up values based on unique keys and the order of elements is not crucial.\n"
      ],
      "metadata": {
        "id": "w3S54j-Ea7-c"
      }
    },
    {
      "cell_type": "markdown",
      "source": [
        "19. Why are dictionaries considered unordered, and how does that affect data retrieval3\n",
        "-Dictionaries are considered unordered because they don't store items in a specific sequence based on insertion order or any other predefined order. Instead, they are optimized for fast key-based lookups. This means you can't rely on the order in which you added items to a dictionary when retrieving them, but you can quickly access a value using its corresponding key.\n"
      ],
      "metadata": {
        "id": "CeA7e0SKbN9y"
      }
    },
    {
      "cell_type": "markdown",
      "source": [
        "20. Explain the difference between a list and a dictionary in terms of data retrieval\n",
        "-\n",
        "list-\n",
        "If you need to find an element by its value (rather than its position), you would need to iterate through the list, which can lead to a time complexity of O(n) (linear time) in the worst case, where 'n' is the number of elements.\n",
        "Dictionary-\n",
        "Dictionaries are optimized for direct key-based lookups, making them very efficient for retrieving specific values when you know their associated key. Searching for a value without knowing its key would require iterating through all key-value pairs, similar to searching in a list."
      ],
      "metadata": {
        "id": "MOuvfSgjbhrb"
      }
    },
    {
      "cell_type": "code",
      "source": [
        "#1Write a code to create a string with your name and print itP\n",
        "name = \"saheel chakraborty\"\n",
        "print(name)\n"
      ],
      "metadata": {
        "colab": {
          "base_uri": "https://localhost:8080/"
        },
        "id": "QRTb9vr8cDQT",
        "outputId": "cefb328d-36cd-4bc2-b1a5-c3590d70317f"
      },
      "execution_count": 3,
      "outputs": [
        {
          "output_type": "stream",
          "name": "stdout",
          "text": [
            "saheel chakraborty\n"
          ]
        }
      ]
    },
    {
      "cell_type": "code",
      "source": [
        "#2Write a code to find the length of the string \"Hello World\"P\n",
        "string = \"Hello World\"\n",
        "length = len(string)\n",
        "print(length)\n"
      ],
      "metadata": {
        "colab": {
          "base_uri": "https://localhost:8080/"
        },
        "id": "EuBLAQ1bcZLy",
        "outputId": "b81ab773-80e0-4725-8a5f-74b4cd1ac98d"
      },
      "execution_count": 4,
      "outputs": [
        {
          "output_type": "stream",
          "name": "stdout",
          "text": [
            "11\n"
          ]
        }
      ]
    },
    {
      "cell_type": "code",
      "source": [
        "#3Write a code to slice the first 3 characters from the string \"Python Programming\"P\n",
        "string = \"Python Programming\"\n",
        "sliced_string = string[:3]\n",
        "print(sliced_string)\n"
      ],
      "metadata": {
        "colab": {
          "base_uri": "https://localhost:8080/"
        },
        "id": "r4tvcmaLc7c2",
        "outputId": "5ed5ecb4-0af8-4efa-ed18-c179e2b3438a"
      },
      "execution_count": 6,
      "outputs": [
        {
          "output_type": "stream",
          "name": "stdout",
          "text": [
            "Pyt\n"
          ]
        }
      ]
    },
    {
      "cell_type": "code",
      "source": [
        "#4 P Write a code to convert the string \"hello\" to uppercase\n",
        "string = \"hello\"\n",
        "uppercase_string = string.upper()\n",
        "print(uppercase_string)"
      ],
      "metadata": {
        "colab": {
          "base_uri": "https://localhost:8080/"
        },
        "id": "btPFag-NdNs3",
        "outputId": "c0adc20f-dc4b-49d4-d454-8048608b8280"
      },
      "execution_count": 7,
      "outputs": [
        {
          "output_type": "stream",
          "name": "stdout",
          "text": [
            "HELLO\n"
          ]
        }
      ]
    },
    {
      "cell_type": "code",
      "source": [
        "#5 P Write a code to replace the word \"apple\" with \"orange\" in the string \"I like apple\"P\n",
        "string = \"I like apple\"\n",
        "new_string = string.replace(\"apple\", \"orange\")\n",
        "print(new_string)"
      ],
      "metadata": {
        "id": "VCF2-67Sdjf9"
      },
      "execution_count": null,
      "outputs": []
    },
    {
      "cell_type": "code",
      "source": [
        "#6 Write a code to create a list with numbers 1 to 5 and print it\n",
        "my_list = [1, 2, 3, 4, 5]\n",
        "print(my_list)"
      ],
      "metadata": {
        "id": "XrmjP0h3dzmF"
      },
      "execution_count": null,
      "outputs": []
    },
    {
      "cell_type": "code",
      "source": [
        "#7 Write a code to append the number 10 to the list [1, 2, 3, 4]P\n",
        "my_list = [1, 2, 3, 4]\n",
        "my_list.append(10)\n",
        "print(my_list)\n"
      ],
      "metadata": {
        "id": "bSOPNhWGeCKg"
      },
      "execution_count": null,
      "outputs": []
    },
    {
      "cell_type": "code",
      "source": [
        "#8 Write a code to remove the number 3 from the list [1, 2, 3, 4, 5]P\n",
        "my_list = [1, 2, 3, 4, 5]\n",
        "my_list.remove(3)\n",
        "print(my_list)"
      ],
      "metadata": {
        "id": "zPlHAQSqeRTV"
      },
      "execution_count": null,
      "outputs": []
    },
    {
      "cell_type": "code",
      "source": [
        "#9 Write a code to access the second element in the list ['a', 'b', 'c', 'd']P\n",
        "my_list = ['a', 'b', 'c', 'd']\n",
        "second_element = my_list[1]\n",
        "print(second_element)"
      ],
      "metadata": {
        "id": "W92foaOkecz2"
      },
      "execution_count": null,
      "outputs": []
    },
    {
      "cell_type": "code",
      "source": [
        "#10 P Write a code to reverse the list [10, 20, 30, 40, 50].\n",
        "my_list = [10, 20, 30, 40, 50]\n",
        "my_list.reverse()\n",
        "print(my_list)"
      ],
      "metadata": {
        "id": "Z-3GBqU6eqXs"
      },
      "execution_count": null,
      "outputs": []
    },
    {
      "cell_type": "code",
      "source": [
        "#11  Write a code to create a tuple with the elements 100, 200, 300 and print it\n",
        "my_tuple = (100, 200, 300)\n",
        "print(my_tuple)"
      ],
      "metadata": {
        "colab": {
          "base_uri": "https://localhost:8080/"
        },
        "id": "hkQi9TDpe29y",
        "outputId": "0f54ccc9-1add-4260-88e7-9d6fa49d3fca"
      },
      "execution_count": 8,
      "outputs": [
        {
          "output_type": "stream",
          "name": "stdout",
          "text": [
            "(100, 200, 300)\n"
          ]
        }
      ]
    },
    {
      "cell_type": "code",
      "source": [
        "#12 Write a code to access the second-to-last element of the tuple ('red', 'green', 'blue', 'yellow')\n",
        "my_tuple = ('red', 'green', 'blue', 'yellow')\n",
        "second_to_last_element = my_tuple[-2]\n",
        "print(second_to_last_element)"
      ],
      "metadata": {
        "id": "1nJrPGNbfHV4"
      },
      "execution_count": null,
      "outputs": []
    },
    {
      "cell_type": "code",
      "source": [
        "#13  Write a code to find the minimum number in the tuple (10, 20, 5, 15).\n",
        "my_tuple = (10, 20, 5, 15)\n",
        "minimum_number = min(my_tuple)\n",
        "print(minimum_number)\n"
      ],
      "metadata": {
        "id": "I48NkisIfsSc"
      },
      "execution_count": null,
      "outputs": []
    },
    {
      "cell_type": "code",
      "source": [
        "#14  Write a code to find the index of the element \"cat\" in the tuple ('dog', 'cat', 'rabbit').\n",
        "my_tuple = ('dog', 'cat', 'rabbit')\n",
        "index_of_cat = my_tuple.index(\"cat\")\n",
        "print(index_of_cat)"
      ],
      "metadata": {
        "id": "OOWj6i2zf3gE"
      },
      "execution_count": null,
      "outputs": []
    },
    {
      "cell_type": "code",
      "source": [
        "#15 . Write a code to create a tuple containing three different fruits and check if \"kiwi\" is in it.\n",
        "fruits_tuple = (\"apple\", \"banana\", \"orange\")\n",
        "check_kiwi = \"kiwi\" in fruits_tuple\n",
        "print(check_kiwi)"
      ],
      "metadata": {
        "id": "wV6M5R47gGAw"
      },
      "execution_count": null,
      "outputs": []
    },
    {
      "cell_type": "code",
      "source": [
        "#16 . Write a code to create a set with the elements 'a', 'b', 'c' and print it.\n",
        "\n",
        "my_set = {'a', 'b', 'c'}\n",
        "print(my_set)"
      ],
      "metadata": {
        "colab": {
          "base_uri": "https://localhost:8080/"
        },
        "id": "C4yoFKgEgRby",
        "outputId": "6a97d7a1-b2da-43c1-85f4-e483d89256c2"
      },
      "execution_count": 9,
      "outputs": [
        {
          "output_type": "stream",
          "name": "stdout",
          "text": [
            "{'c', 'b', 'a'}\n"
          ]
        }
      ]
    },
    {
      "cell_type": "code",
      "source": [
        "#17  Write a code to clear all elements from the set {1, 2, 3, 4, 5}.\n",
        "my_set = {1, 2, 3, 4, 5}\n",
        "my_set.clear()\n",
        "print(my_set)"
      ],
      "metadata": {
        "id": "s7g88eN_gmfk"
      },
      "execution_count": null,
      "outputs": []
    },
    {
      "cell_type": "code",
      "source": [
        "#18  Write a code to remove the element 4 from the set {1, 2, 3, 4}.\n",
        "my_set = {1, 2, 3, 4}\n",
        "my_set.remove(4)\n",
        "print(my_set)\n"
      ],
      "metadata": {
        "id": "99M2iRydgx1g"
      },
      "execution_count": null,
      "outputs": []
    },
    {
      "cell_type": "code",
      "source": [
        "#19 . Write a code to find the union of two sets {1, 2, 3} and {3, 4, 5}.\n",
        "set1 = {1, 2, 3}\n",
        "set2 = {3, 4, 5}\n",
        "union_set = set1 | set2  # or set1.union(set2)\n",
        "print(union_set)"
      ],
      "metadata": {
        "id": "lDQ9YPxOg9T8"
      },
      "execution_count": null,
      "outputs": []
    },
    {
      "cell_type": "code",
      "source": [
        "#20 . Write a code to find the intersection of two sets {1, 2, 3} and {2, 3, 4}.\n",
        "set1 = {1, 2, 3}\n",
        "set2 = {2, 3, 4}\n",
        "intersection_set = set1 & set2  # or set1.intersection(set2)\n",
        "print(intersection_set)\n"
      ],
      "metadata": {
        "id": "XoPmh_o2hIxa"
      },
      "execution_count": null,
      "outputs": []
    },
    {
      "cell_type": "code",
      "source": [
        "#21  Write a code to create a dictionary with the keys \"name\", \"age\", and \"city\", and print it.\n",
        "\n",
        "my_dict = {\"name\": \"Sahee \", \"age\": 24, \"city\": \"Agartala\"}\n",
        "print(my_dict)"
      ],
      "metadata": {
        "id": "E9RZ9fJPhUkd"
      },
      "execution_count": null,
      "outputs": []
    },
    {
      "cell_type": "code",
      "source": [
        "#22 . Write a code to add a new key-value pair \"country\": \"USA\" to the dictionary {'name': 'John', 'age': 25}.\n",
        "my_dict = {'name': 'John', 'age': 25}\n",
        "my_dict[\"country\"] = \"USA\"\n",
        "print(my_dict)"
      ],
      "metadata": {
        "id": "AQv49Jdzho01"
      },
      "execution_count": null,
      "outputs": []
    },
    {
      "cell_type": "code",
      "source": [
        "#23 . Write a code to access the value associated with the key \"name\" in the dictionary {'name': 'Alice', 'age': 30}.\n",
        "my_dict = {'name': 'Alice', 'age': 30}\n",
        "name_value = my_dict[\"name\"]\n",
        "print(name_value)"
      ],
      "metadata": {
        "id": "M3R2_h6zh1V_"
      },
      "execution_count": null,
      "outputs": []
    },
    {
      "cell_type": "code",
      "source": [
        "#24 Write a code to remove the key \"age\" from the dictionary {'name': 'Bob', 'age': 22, 'city': 'New York'}\n",
        "my_dict = {'name': 'Bob', 'age': 22, 'city': 'New York'}\n",
        "del my_dict[\"age\"]\n",
        "print(my_dict)"
      ],
      "metadata": {
        "id": "K-iqEAGjiEFW"
      },
      "execution_count": null,
      "outputs": []
    },
    {
      "cell_type": "code",
      "source": [
        "#25  Write a code to check if the key \"city\" exists in the dictionary {'name': 'Alice', 'city': 'Paris'}.\n",
        "my_dict = {'name': 'Alice', 'city': 'Paris'}\n",
        "check_city = \"city\" in my_dict\n",
        "print(check_city)\n"
      ],
      "metadata": {
        "id": "OX_gX-JNiSzW"
      },
      "execution_count": null,
      "outputs": []
    },
    {
      "cell_type": "code",
      "source": [
        "#26  Write a code to create a list, a tuple, and a dictionary, and print them all.\n",
        "my_list = [1, 2, 3]\n",
        "my_tuple = (4, 5, 6)\n",
        "my_dict = {\"a\": 7, \"b\": 8, \"c\": 9}\n",
        "\n",
        "print(\"List:\", my_list)\n",
        "print(\"Tuple:\", my_tuple)\n",
        "print(\"Dictionary:\", my_dict)"
      ],
      "metadata": {
        "id": "7CHqTEZ5iesu"
      },
      "execution_count": null,
      "outputs": []
    },
    {
      "cell_type": "code",
      "source": [
        "#27  Write a code to create a list of 5 random numbers between 1 and 100, sort it in ascending order, and print the\n",
        "#result.(replaced)\n",
        "import random\n",
        "\n",
        "random_numbers = [random.randint(1, 100) for _ in range(5)]\n",
        "random_numbers.sort()\n",
        "print(random_numbers)"
      ],
      "metadata": {
        "colab": {
          "base_uri": "https://localhost:8080/"
        },
        "id": "4Ur4CbC_irlK",
        "outputId": "a91fbc78-76f3-4539-b87e-355756f9c183"
      },
      "execution_count": 11,
      "outputs": [
        {
          "output_type": "stream",
          "name": "stdout",
          "text": [
            "[18, 37, 62, 67, 84]\n"
          ]
        }
      ]
    },
    {
      "cell_type": "code",
      "source": [
        "#28  Write a code to create a list with strings and print the element at the third index\n",
        "my_list = [\"apple\", \"banana\", \"cherry\", \"date\", \"elderberry\"]\n",
        "third_element = my_list[3]\n",
        "print(third_element)"
      ],
      "metadata": {
        "id": "cuHmeg2zjDDB"
      },
      "execution_count": null,
      "outputs": []
    },
    {
      "cell_type": "code",
      "source": [
        "#29 Write a code to combine two dictionaries into one and print the result.\n",
        "dict1 = {\"a\": 1, \"b\": 2}\n",
        "dict2 = {\"c\": 3, \"d\": 4}\n",
        "\n",
        "combined_dict = dict1.copy() # Create a copy to avoid modifying the original dict1\n",
        "combined_dict.update(dict2)\n",
        "\n",
        "print(combined_dict)"
      ],
      "metadata": {
        "colab": {
          "base_uri": "https://localhost:8080/"
        },
        "id": "80iqSjmTjOVp",
        "outputId": "a5fe22a2-d3c9-41f0-e312-df80dba41946"
      },
      "execution_count": 13,
      "outputs": [
        {
          "output_type": "stream",
          "name": "stdout",
          "text": [
            "{'a': 1, 'b': 2, 'c': 3, 'd': 4}\n"
          ]
        }
      ]
    },
    {
      "cell_type": "code",
      "source": [
        "#30 . Write a code to convert a list of strings into a set.\n",
        "list_of_strings = [\"apple\", \"banana\", \"cherry\", \"apple\"]\n",
        "set_of_strings = set(list_of_strings)\n",
        "print(set_of_strings)"
      ],
      "metadata": {
        "colab": {
          "base_uri": "https://localhost:8080/"
        },
        "id": "W264XFESjaEk",
        "outputId": "a7e7f6ce-a0f8-4841-ad2e-a6fee4b8d81d"
      },
      "execution_count": 12,
      "outputs": [
        {
          "output_type": "stream",
          "name": "stdout",
          "text": [
            "{'apple', 'banana', 'cherry'}\n"
          ]
        }
      ]
    }
  ]
}